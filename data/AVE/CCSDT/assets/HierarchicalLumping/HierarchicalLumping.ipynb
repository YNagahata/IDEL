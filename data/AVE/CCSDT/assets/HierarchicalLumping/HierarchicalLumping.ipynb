{
 "cells": [
  {
   "cell_type": "code",
   "execution_count": 1,
   "metadata": {
    "vscode": {
     "languageId": "wolfram language"
    }
   },
   "outputs": [],
   "source": [
    "ClearAll[\"Global`*\"]; acc = 200;\n",
    "$MaxExtraPrecision = acc*1.1;\n",
    "Dir = Directory[];\n",
    "Ext = \".ipynb.tsv\";\n",
    "PhysConst = {\n",
    "    Tk0 -> 27315/100 Kelvin,\n",
    "    R -> (83144621/10^7 Joule)/(Kelvin Mole),\n",
    "    kB -> (13806488/10^7)*10^-23 Joule/Kelvin,\n",
    "    h -> (662606957/10^8)*10^-34 Joule*Second\n",
    "};\n",
    "InFileWL = FileNameJoin[{ParentDirectory[Dir, 5], \"codes\", \"scripts\", \"wl\", \"pairwise-epsilon-indistinguishability.wl\"}];\n",
    "Import[InFileWL]"
   ]
  },
  {
   "cell_type": "code",
   "execution_count": 8,
   "metadata": {
    "vscode": {
     "languageId": "wolfram language"
    }
   },
   "outputs": [],
   "source": [
    "FilePathEQs = <||>;\n",
    "FilePathTSs = <||>;\n",
    "Do[\n",
    "    AppendTo[FilePathEQs, Tc -> FileNameJoin[{ParentDirectory[Dir, 1],\"GRRM.log\",StringJoin[\"T\",StringPadLeft[ToString[Tc],3,\"0\"]],\"energies\", \"EQ.tsv\"}]];\n",
    "    AppendTo[FilePathTSs, Tc -> FileNameJoin[{ParentDirectory[Dir, 1],\"GRRM.log\",StringJoin[\"T\",StringPadLeft[ToString[Tc],3,\"0\"]],\"energies\", \"TS.tsv\"}]];\n",
    ",{Tc,0,250,50}]"
   ]
  },
  {
   "cell_type": "code",
   "execution_count": 11,
   "metadata": {},
   "outputs": [
    {
     "data": {
      "text/html": [
       "<div><pre style=\"&#102;&#111;&#110;&#116;&#45;&#102;&#97;&#109;&#105;&#108;&#121;&#58;&#32;&#34;&#67;&#111;&#117;&#114;&#105;&#101;&#114;&#32;&#78;&#101;&#119;&#34;&#44;&#67;&#111;&#117;&#114;&#105;&#101;&#114;&#44;&#109;&#111;&#110;&#111;&#115;&#112;&#97;&#99;&#101;&#59;\">&#123;&#105;&#100;&#50;&#44;&#32;&#105;&#100;&#51;&#44;&#32;&#105;&#100;&#52;&#44;&#32;&#105;&#100;&#53;&#44;&#32;&#115;&#115;&#51;&#44;&#32;&#115;&#115;&#52;&#125;</pre></div>"
      ],
      "text/plain": [
       "{id2, id3, id4, id5, ss3, ss4}"
      ]
     },
     "execution_count": 61,
     "metadata": {
      "text/html": [],
      "text/plain": []
     },
     "output_type": "execute_result"
    }
   ],
   "source": [
    "Blngs = <||>;\n",
    "\n",
    "SDir = \"id2\";\n",
    "Blng = <||>;\n",
    "Do[\n",
    "    AppendTo[Blng, Tc -> Join[Table[2,13],Table[1,10]]];\n",
    ",{Tc,0,250,50}];\n",
    "AppendTo[Blngs, SDir -> Blng];\n",
    "\n",
    "SDir = \"id3\";\n",
    "Blng = <||>;\n",
    "AppendTo[Blng,   0 ->{3, 3, 3, 3, 3, 3, 3, 3, 3, 3, 3, 3, 3, 1, 1, 1, 1, 1, 2, 2, 2, 2, 2}];\n",
    "AppendTo[Blng,  50 ->{3, 3, 3, 3, 3, 3, 3, 3, 3, 3, 3, 3, 3, 1, 1, 1, 1, 1, 2, 2, 2, 2, 2}];\n",
    "AppendTo[Blng, 100 ->{3, 3, 3, 3, 3, 3, 3, 3, 3, 3, 3, 3, 3, 1, 1, 1, 1, 1, 2, 2, 2, 2, 2}];\n",
    "AppendTo[Blng, 150 ->{3, 3, 3, 3, 3, 3, 3, 3, 3, 3, 3, 3, 3, 1, 1, 1, 1, 1, 2, 2, 2, 2, 2}];\n",
    "AppendTo[Blng, 200 ->{3, 3, 3, 3, 3, 3, 3, 3, 3, 3, 3, 3, 3, 1, 1, 1, 1, 1, 2, 2, 2, 2, 2}];\n",
    "AppendTo[Blng, 250 ->{3, 3, 3, 3, 3, 3, 3, 3, 3, 3, 3, 3, 3, 1, 1, 1, 1, 1, 1, 1, 1, 2, 1}];\n",
    "AppendTo[Blngs, SDir -> Blng];\n",
    "\n",
    "SDir = \"id4\";\n",
    "Blng = <||>;\n",
    "AppendTo[Blng,   0 ->{4, 4, 4, 4, 4, 4, 4, 4, 4, 4, 4, 4, 4, 1, 1, 1, 1, 1, 2, 3, 2, 3, 3}];\n",
    "AppendTo[Blng,  50 ->{4, 4, 4, 4, 4, 4, 4, 4, 4, 4, 4, 4, 4, 1, 1, 1, 1, 1, 2, 3, 2, 3, 3}];\n",
    "AppendTo[Blng, 100 ->{4, 4, 4, 4, 4, 4, 4, 4, 4, 4, 4, 4, 4, 1, 1, 1, 1, 1, 2, 3, 2, 3, 3}];\n",
    "AppendTo[Blng, 150 ->{3, 3, 3, 3, 3, 4, 3, 3, 3, 3, 3, 4, 3, 1, 1, 1, 1, 1, 2, 2, 2, 2, 2}];\n",
    "AppendTo[Blng, 200 ->{3, 3, 3, 4, 3, 4, 3, 3, 3, 3, 4, 4, 4, 1, 1, 1, 1, 1, 2, 2, 2, 2, 2}];\n",
    "AppendTo[Blng, 250 ->{3, 3, 3, 3, 3, 3, 3, 3, 3, 3, 3, 4, 3, 1, 1, 1, 1, 1, 1, 1, 1, 2, 1}];\n",
    "AppendTo[Blngs, SDir -> Blng];\n",
    "\n",
    "SDir = \"id5\";\n",
    "Blng = <||>;\n",
    "AppendTo[Blng,   0 ->{4, 4, 4, 4, 4, 5, 4, 4, 4, 4, 4, 5, 4, 1, 1, 1, 1, 1, 2, 3, 2, 3, 3}];\n",
    "AppendTo[Blng,  50 ->{5, 4, 4, 5, 5, 5, 4, 4, 5, 4, 5, 5, 5, 1, 1, 1, 1, 1, 2, 3, 2, 3, 3}];\n",
    "AppendTo[Blng, 100 ->{4, 4, 4, 4, 4, 5, 4, 4, 4, 4, 4, 5, 4, 1, 1, 1, 1, 1, 2, 3, 2, 3, 3}];\n",
    "AppendTo[Blng, 150 ->{4, 4, 4, 4, 4, 5, 4, 4, 4, 4, 4, 5, 4, 1, 1, 1, 1, 1, 2, 3, 2, 2, 2}];\n",
    "AppendTo[Blng, 200 ->{4, 4, 4, 5, 4, 5, 4, 4, 4, 4, 5, 5, 5, 1, 1, 1, 1, 1, 2, 2, 2, 3, 2}];\n",
    "AppendTo[Blng, 250 ->{4, 4, 4, 4, 4, 4, 4, 4, 4, 4, 4, 5, 4, 2, 1, 1, 1, 1, 2, 2, 2, 3, 2}];\n",
    "AppendTo[Blngs, SDir -> Blng];\n",
    "\n",
    "SDir = \"ss3\";\n",
    "Blng = <||>;\n",
    "AppendTo[Blng,   0 ->{3, 3, 3, 3, 3, 3, 3, 3, 3, 3, 3, 3, 3, 1, 1, 1, 1, 1, 2, 2, 2, 2, 2}];\n",
    "AppendTo[Blng,  50 ->{3, 3, 3, 3, 3, 3, 3, 3, 3, 3, 3, 3, 3, 1, 1, 1, 1, 1, 2, 2, 2, 2, 2}];\n",
    "AppendTo[Blng, 100 ->{3, 3, 3, 3, 3, 3, 3, 3, 3, 3, 3, 3, 3, 1, 1, 1, 1, 1, 2, 2, 2, 2, 2}];\n",
    "AppendTo[Blng, 150 ->{3, 3, 3, 3, 3, 3, 3, 3, 3, 3, 3, 3, 3, 1, 1, 1, 1, 1, 2, 2, 2, 2, 2}];\n",
    "AppendTo[Blng, 200 ->{3, 3, 3, 3, 3, 3, 3, 3, 3, 3, 3, 3, 3, 1, 1, 1, 1, 1, 2, 2, 2, 2, 2}];\n",
    "AppendTo[Blng, 250 ->{3, 3, 3, 3, 3, 3, 3, 3, 3, 3, 3, 3, 3, 1, 1, 1, 1, 1, 2, 2, 2, 2, 2}];\n",
    "AppendTo[Blngs, SDir -> Blng];\n",
    "\n",
    "SDir = \"ss4\";\n",
    "Blng = <||>;\n",
    "AppendTo[Blng,   0 ->{4, 4, 4, 4, 4, 4, 4, 4, 4, 4, 4, 4, 4, 1, 1, 1, 1, 1, 2, 3, 2, 3, 3}];\n",
    "AppendTo[Blng,  50 ->{4, 4, 4, 4, 4, 4, 4, 4, 4, 4, 4, 4, 4, 1, 1, 1, 1, 1, 2, 3, 2, 3, 3}];\n",
    "AppendTo[Blng, 100 ->{3, 4, 4, 3, 3, 3, 4, 4, 3, 4, 3, 3, 3, 1, 1, 1, 1, 1, 2, 2, 2, 2, 2}];\n",
    "AppendTo[Blng, 150 ->{3, 4, 4, 3, 3, 3, 4, 4, 3, 4, 3, 3, 3, 1, 1, 1, 1, 1, 2, 2, 2, 2, 2}];\n",
    "AppendTo[Blng, 200 ->{3, 4, 4, 3, 3, 3, 4, 4, 3, 4, 3, 3, 3, 1, 1, 1, 1, 1, 2, 2, 2, 2, 2}];\n",
    "AppendTo[Blng, 250 ->{3, 4, 4, 3, 3, 3, 4, 4, 3, 4, 3, 3, 3, 1, 1, 1, 1, 1, 2, 2, 2, 2, 2}];\n",
    "AppendTo[Blngs, SDir -> Blng];\n",
    "\n",
    "Keys[Blngs]"
   ]
  },
  {
   "cell_type": "code",
   "execution_count": 62,
   "metadata": {},
   "outputs": [
    {
     "data": {
      "text/html": [
       "<div><pre style=\"&#102;&#111;&#110;&#116;&#45;&#102;&#97;&#109;&#105;&#108;&#121;&#58;&#32;&#34;&#67;&#111;&#117;&#114;&#105;&#101;&#114;&#32;&#78;&#101;&#119;&#34;&#44;&#67;&#111;&#117;&#114;&#105;&#101;&#114;&#44;&#109;&#111;&#110;&#111;&#115;&#112;&#97;&#99;&#101;&#59;\">&#50;&#51;</pre></div>"
      ],
      "text/plain": [
       "23"
      ]
     },
     "execution_count": 66,
     "metadata": {
      "text/html": [],
      "text/plain": []
     },
     "output_type": "execute_result"
    }
   ],
   "source": [
    "KFull = <||>;\n",
    "ESys = <||>;\n",
    "EVals = <||>;\n",
    "Do[\n",
    "    InEQ = ImportEQ[FilePathEQs[Tc]];\n",
    "    InTS = ImportTS[FilePathTSs[Tc]];\n",
    "    KFull[Tc] = RateConstantMatrix[InEQ, InTS, PhysConst, acc, Tc];\n",
    "    {EVal,EVecR} = Eigensystem[N[KFull[Tc], acc]];\n",
    "    EVecL = Inverse[Transpose[EVecR]];\n",
    "    AppendTo[ESys, Tc -> <|\"Val\" -> EVal, \"VecR\" -> EVecR, \"VecL\" -> EVecL|>];\n",
    "    EVals[Tc] = EVal;\n",
    "    (* export *)\n",
    "    TC = StringJoin[\"T\",StringPadLeft[ToString[Tc],3,\"0\"]];\n",
    "    ExportRM[KFull[Tc]/Second, InEQ, FileNameJoin[{Dir, TC, \"RM\"}], Ext];\n",
    "    ExportESys[EVal, EVecR, EVecL, FileNameJoin[{Dir, TC, \"ESys\"}], Ext];\n",
    ",{Tc,0,250,50}];\n",
    "Nk = Length[KFull[0]]"
   ]
  },
  {
   "cell_type": "code",
   "execution_count": 67,
   "metadata": {},
   "outputs": [],
   "source": [
    "EValsHat = <||>;\n",
    "KHatn = <||>;\n",
    "Do[\n",
    "    EValsHat[SDir] = <||>;\n",
    "    KHatn[SDir] = <||>;\n",
    ",{SDir, {\"id2\", \"id3\", \"id4\", \"id5\", \"ss3\", \"ss4\"}}];\n",
    "Do[\n",
    "    EVal = ESys[Tc][\"Val\"];\n",
    "    EVecR = ESys[Tc][\"VecR\"];\n",
    "    Nk = Length[EVal];\n",
    "    Do[\n",
    "        Blng = Blngs[SDir][Tc];\n",
    "        Nhat = Max[Blng];\n",
    "        (* CHat *)\n",
    "        CHat = Table[0, Max[Blng], Length[Blng]];\n",
    "        Do[If[j == Blng[[i]], CHat[[j]][[i]] = 1;],{i, 1, Nk} ,{j, 1, Nhat}];    \n",
    "        (* KHat *)\n",
    "        EVecRHat = Transpose[CHat.Transpose[EVecR[[Nk-Nhat+1;;]]]];\n",
    "        EVecLHat = Inverse[Transpose[EVecRHat]];\n",
    "        KHat = Transpose[EVecRHat].DiagonalMatrix[EVal[[Nk-Nhat+1;;]]].EVecLHat;\n",
    "        AppendTo[KHatn[SDir], Tc -> KHat/Second];\n",
    "        EValsHat[SDir][Tc] = Eigenvalues[KHat];\n",
    "    ,{SDir, {\"id2\", \"id3\", \"id4\", \"id5\", \"ss3\", \"ss4\"}}];\n",
    ",{Tc,0,250,50}]\n",
    "\n",
    "(* Export *)\n",
    "ExportEVal[EVals, EVals,{FileNameJoin[{Dir, \"EVals\", \"full\",\"eval\"}], Ext}];\n",
    "ArrheniusFull = ArrheniusParameters[EVals, Length[EVals[0] ]];\n",
    "ExportArrhenius[FileNameJoin[{Dir, \"EVals\", \"full\",StringJoin[\"eval.Arrhenius\", Ext]}],ArrheniusFull, ArrheniusFull, \"\\\\lambda\"];\n",
    "\n",
    "Do[\n",
    "    ExportRate[KHatn[SDir], FileNameJoin[{Dir, \"EVals\", SDir, StringJoin[\"lmp.ks\",Ext]}]];\n",
    "\n",
    "    kF = <||>; Do[AppendTo[kF, Tc -> {-KHatn[SDir][Tc][[2,1]] Second,0} ];,{Tc, Keys[KHatn[SDir]]}];\n",
    "    Arrhenius = ArrheniusParameters[kF, 2];\n",
    "    ExportArrhenius[FileNameJoin[{Dir, \"EVals\", SDir, StringJoin[\"lmp.kF.Arrhenius\", Ext]}],Arrhenius, ArrheniusFull, \"k^\\\\mathrm{lmp}_\\\\mathrm{F}\"];\n",
    "    \n",
    "    ExportEVal[EValsHat[SDir], EVals,{FileNameJoin[{Dir, \"EVals\", SDir, \"lmp.eval\"}], Ext}];\n",
    "    Arrhenius = ArrheniusParameters[EValsHat[SDir], Length[EValsHat[SDir][0]]];\n",
    "    ExportArrhenius[FileNameJoin[{Dir, \"EVals\", SDir, StringJoin[\"lmp.eval.Arrhenius\", Ext]}],Arrhenius, ArrheniusFull, \"\\\\lambda\"];\n",
    ",{SDir, {\"id2\", \"id3\", \"id4\", \"id5\", \"ss3\", \"ss4\"}}];"
   ]
  },
  {
   "cell_type": "code",
   "execution_count": 76,
   "metadata": {},
   "outputs": [],
   "source": [
    "EValsGPE = <||>;\n",
    "KGPEn = <||>;\n",
    "Do[\n",
    "    KGPEn[SDir] = <||>;\n",
    "    EValsGPE[SDir] = <||>;\n",
    "    Do[\n",
    "        InEQ = ImportEQ[FilePathEQs[Tc]];\n",
    "        InTS = ImportTS[FilePathTSs[Tc]];\n",
    "        KGPE = LumpGenPE[Blngs[SDir][Tc], InEQ, InTS, PhysConst, acc, Tc] Second;\n",
    "        EValsGPE[SDir][Tc] = Eigenvalues[KGPE];\n",
    "        AppendTo[KGPEn[SDir], Tc -> KGPE / Second];\n",
    "        ,{Tc,0,250,50}]\n",
    "    ExportRate[KGPEn[SDir], FileNameJoin[{Dir, \"EVals\", SDir, StringJoin[\"gpe.ks\",Ext]}]];\n",
    "    (* eigenvalues *)\n",
    "    ExportEVal[EValsGPE[SDir], EVals,{FileNameJoin[{Dir, \"EVals\", SDir, \"gpe.eval\"}], Ext}];\n",
    "    Arrhenius = ArrheniusParameters[EValsGPE[SDir], Length[EValsGPE[SDir][0]]];\n",
    "    ExportArrhenius[FileNameJoin[{Dir, \"EVals\", SDir, StringJoin[\"gpe.eval.Arrhenius\", Ext]}],Arrhenius, ArrheniusFull, \"\\\\lambda\"];\n",
    "    ,{SDir, {\"id2\",\"ss3\",\"ss4\"}}];"
   ]
  },
  {
   "cell_type": "code",
   "execution_count": 79,
   "metadata": {},
   "outputs": [],
   "source": [
    "(* k forward for 2x2 *)\n",
    "Do[\n",
    "    kF = <||>; Do[AppendTo[kF, Tc -> {-KHatn[SDir][Tc][[2,1]] Second,0} ];,{Tc, Keys[KHatn[SDir]]}];\n",
    "    Arrhenius = ArrheniusParameters[kF, 2];\n",
    "    ExportArrhenius[FileNameJoin[{Dir, \"EVals\", SDir, StringJoin[\"lmp.kF.Arrhenius\", Ext]}],Arrhenius, ArrheniusFull, \"k^\\\\mathrm{lmp}_\\\\mathrm{F}\"];\n",
    "    kF = <||>; Do[AppendTo[kF, Tc -> {-KGPEn[SDir][Tc][[2,1]] Second,0} ];,{Tc, Keys[KGPEn[SDir]]}];\n",
    "    Arrhenius = ArrheniusParameters[kF, 2];\n",
    "    ExportArrhenius[FileNameJoin[{Dir, \"EVals\", SDir, StringJoin[\"gpe.kF.Arrhenius\", Ext]}],Arrhenius, ArrheniusFull, \"k^\\\\mathrm{gpe}_\\\\mathrm{F}\"];\n",
    ",{SDir, {\"id2\"}}];"
   ]
  },
  {
   "cell_type": "code",
   "execution_count": 81,
   "metadata": {},
   "outputs": [],
   "source": [
    "(*Indistinguish*)\n",
    "Do[\n",
    "  InEQ = ImportEQ[FilePathEQs[Tc]];\n",
    "  lsRt = Indistinguish[1/10, InEQ, ESys[Tc], acc];\n",
    "  TC = StringJoin[\"T\",StringPadLeft[ToString[Tc],3,\"0\"]];\n",
    "  Export[FileNameJoin[{Dir, TC, StringJoin[\"Indistinguish\",Ext]}], lsRt];\n",
    "  ,{Tc,0,250,50}]"
   ]
  }
 ],
 "metadata": {
  "kernelspec": {
   "display_name": "Wolfram Language 13",
   "language": "Wolfram Language",
   "name": "wolframlanguage13"
  },
  "language_info": {
   "codemirror_mode": "mathematica",
   "file_extension": ".m",
   "mimetype": "application/vnd.wolfram.m",
   "name": "Wolfram Language",
   "pygments_lexer": "mathematica",
   "version": "12.0"
  }
 },
 "nbformat": 4,
 "nbformat_minor": 4
}
