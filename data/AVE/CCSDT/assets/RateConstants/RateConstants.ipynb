{
 "cells": [
  {
   "cell_type": "code",
   "execution_count": 1,
   "metadata": {
    "vscode": {
     "languageId": "wolfram language"
    }
   },
   "outputs": [
    {
     "data": {
      "text/html": [
       "<div><pre style=\"&#102;&#111;&#110;&#116;&#45;&#102;&#97;&#109;&#105;&#108;&#121;&#58;&#32;&#34;&#67;&#111;&#117;&#114;&#105;&#101;&#114;&#32;&#78;&#101;&#119;&#34;&#44;&#67;&#111;&#117;&#114;&#105;&#101;&#114;&#44;&#109;&#111;&#110;&#111;&#115;&#112;&#97;&#99;&#101;&#59;\">&#46;&#105;&#112;&#121;&#110;&#98;&#46;&#116;&#115;&#118;</pre></div>"
      ],
      "text/plain": [
       ".ipynb.tsv"
      ]
     },
     "execution_count": 3,
     "metadata": {
      "text/html": [],
      "text/plain": []
     },
     "output_type": "execute_result"
    }
   ],
   "source": [
    "ClearAll[\"Global`*\"]; acc = 60;\n",
    "Dir = Directory[];\n",
    "Ext = \".ipynb.tsv\"\n",
    "PhysConst = {\n",
    "  Tk0 -> 27315/100 Kelvin,\n",
    "  R -> (83144621/10^7 Joule)/(Kelvin Mole),\n",
    "  kB -> (13806488/10^7)*10^-23 Joule/Kelvin,\n",
    "  h -> (662606957/10^8)*10^-34 Joule*Second\n",
    "  };\n",
    "InFileWL = FileNameJoin[{ParentDirectory[Dir, 5], \"codes\", \"scripts\", \"wl\", \"pairwise-epsilon-indistinguishability.wl\"}];\n",
    "Import[InFileWL]"
   ]
  },
  {
   "cell_type": "code",
   "execution_count": 7,
   "metadata": {},
   "outputs": [],
   "source": [
    "FilePathEQs = <||>;\n",
    "FilePathTSs = <||>;\n",
    "Do[\n",
    "  AppendTo[FilePathEQs,Tc -> FileNameJoin[{ParentDirectory[Dir,1],\"GRRM.log\",StringJoin[\"T\",StringPadLeft[ToString[Tc],3,\"0\"]],\"energies\", \"EQ.tsv\"}]];\n",
    "  AppendTo[FilePathTSs,Tc -> FileNameJoin[{ParentDirectory[Dir,1],\"GRRM.log\",StringJoin[\"T\",StringPadLeft[ToString[Tc],3,\"0\"]],\"energies\", \"TS.tsv\"}]];\n",
    ",{Tc,0,250,50}]"
   ]
  },
  {
   "cell_type": "code",
   "execution_count": null,
   "metadata": {},
   "outputs": [],
   "source": []
  },
  {
   "cell_type": "code",
   "execution_count": 10,
   "metadata": {},
   "outputs": [],
   "source": [
    "ExportRates[kFs_,OutFileName_] := Module[{Outs},\n",
    "  Outs = {{\"#\",\"Tc\", \"kF\"}};\n",
    "  Do[\n",
    "    AppendTo[Outs, {Tc, kFs[Tc]}];\n",
    "    ,{Tc,0,250,50}];\n",
    "  Export[OutFileName, Outs, \"TextDelimiters\" -> \"\"];\n",
    "]"
   ]
  },
  {
   "cell_type": "code",
   "execution_count": 11,
   "metadata": {},
   "outputs": [],
   "source": [
    "KPE = <||>;\n",
    "KRL = <||>;\n",
    "i=28;\n",
    "j1=20; (* PE *)\n",
    "Do[\n",
    "  kBTh = Simplify[kB*(Tc Kelvin+Tk0)/h/.PhysConst];\n",
    "  RT = Simplify[R*(Tc Kelvin+Tk0)/.PhysConst];\n",
    "  EQs = ImportEQ[FilePathEQs[Tc]];\n",
    "  TSs = ImportTS[FilePathTSs[Tc]];\n",
    "  AppendTo[KRL, Tc -> kBTh*Exp[-SetPrecision[TSs[[i, 4]] - EQs[[j1, 2]], acc]*10^3 Joule/Mole/(RT)]];\n",
    "  AppendTo[KPE, Tc -> kBTh*Exp[-SetPrecision[TSs[[i, 4]] - Min[EQs[[14;;23,2]]], acc]*10^3 Joule/Mole/(RT)]];\n",
    "  ,{Tc,0,250,50}]\n",
    "\n",
    "(* Export Rates *)\n",
    "ExportRates[KPE Second,StringJoin[{FileNameJoin[{Dir, \"kFs\", \"pe.kf\"}], Ext}]]\n",
    "ExportRates[KRL Second,StringJoin[{FileNameJoin[{Dir, \"kFs\", \"rl.kf\"}], Ext}]]"
   ]
  },
  {
   "cell_type": "code",
   "execution_count": null,
   "metadata": {},
   "outputs": [],
   "source": []
  }
 ],
 "metadata": {
  "kernelspec": {
   "display_name": "Wolfram Language 13",
   "language": "Wolfram Language",
   "name": "wolframlanguage13"
  },
  "language_info": {
   "codemirror_mode": "mathematica",
   "file_extension": ".m",
   "mimetype": "application/vnd.wolfram.m",
   "name": "Wolfram Language",
   "pygments_lexer": "mathematica",
   "version": "12.0"
  }
 },
 "nbformat": 4,
 "nbformat_minor": 4
}
