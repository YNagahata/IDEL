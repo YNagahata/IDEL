{
 "cells": [
  {
   "cell_type": "code",
   "execution_count": 1,
   "metadata": {
    "vscode": {
     "languageId": "wolfram language"
    }
   },
   "outputs": [],
   "source": [
    "ClearAll[\"Global`*\"]; acc = 60;\n",
    "Dir = Directory[];\n",
    "Ext = \".ipynb.tsv\";\n",
    "PhysConst = {Tk0 -> 27315/100 Kelvin, \n",
    "   R -> (83144621/10^7 Joule)/(Kelvin Mole), \n",
    "   kB -> (13806488/10^7)*10^-23 Joule/Kelvin, \n",
    "   h -> (662606957/10^8)*10^-34 Joule*Second};\n",
    "InFileWL = \n",
    "  FileNameJoin[{ParentDirectory[Dir, 5], \"codes\", \"scripts\", \"wl\", \n",
    "    \"pairwise-epsilon-indistinguishability.wl\"}];\n",
    "Import[InFileWL]"
   ]
  },
  {
   "cell_type": "code",
   "execution_count": 7,
   "metadata": {
    "vscode": {
     "languageId": "wolfram language"
    }
   },
   "outputs": [],
   "source": [
    "FilePathEQ = \n",
    "  FileNameJoin[{ParentDirectory[Dir, 2], \"source\", \"EQ.tsv\"}];\n",
    "FilePathTS = \n",
    "  FileNameJoin[{ParentDirectory[Dir, 2], \"source\", \"TS.tsv\"}];\n",
    "Tc = 26.85;"
   ]
  },
  {
   "cell_type": "code",
   "execution_count": 10,
   "metadata": {
    "vscode": {
     "languageId": "wolfram language"
    }
   },
   "outputs": [
    {
     "ename": "FindRoot::precw",
     "evalue": "                                                                 -7                 -7                -11                            -6                       -6                 -6                -11                            -6                            -7                -13                                            -6                       -6                -11                                            -6                                               -6                                            -6                                                                                        -6                                               -6                                           -6                                                                                       -6\n                                                       1.08483 10         1.10417 10        3.32677 10                 -9  1.22935 10   Dt         -5.97701 10         5.97508 10        3.32789 10                 -9  1.22935 10   Dt               -1.0472 10        6.47786 10           0.0175142                 1.22935 10   Dt          5.76968 10         3.5054 10           0.0175201                 1.22935 10   Dt                -0.0178206        6.08149 10         0.000312321                1.22935 10   Dt            0.981844         0.000329091        0.000312426                1.22935 10   Dt                0.0178206         6.19191 10          0.0172019                1.22935 10   Dt           -0.981844         0.000335066         0.0172077                1.22935 10   Dt           11\nThe precision of the argument function (Max[Abs[-Log[---------------- - ---------------- + --------------- + 1.90069 10   E               ] + Log[---------------- + ---------------- + --------------- + 1.90069 10   E               ]], Abs[-Log[---------------- - ---------------- - --------------- + 0.0175143 E               ] + Log[---------------- + ---------------- - --------------- + 0.0175143 E               ]], Abs[-Log[---------------- - ---------------- + --------------- + 0.0175143 E               ] + Log[---------------- + ---------------- + --------------- + 0.0175143 E               ]], Abs[-Log[---------------- + ---------------- + --------------- + 0.964971 E               ] + Log[---------------- - ---------------- + --------------- + 0.964971 E               ]]] == Log[--]) is less than WorkingPrecision (60.).\n                                                                11                 11                 7                                                      11                 11                 7                                                           11                 11                 7                                                   11                 11                 7                                                        11                 11                 7                                                   11                 11                 7                                                        11                 11                 7                                                  11                 11                 7                                          10\n                                                      1.15516 10   Dt    1.13493 10   Dt    3.80417 10  Dt                                         1.15516 10   Dt    1.13493 10   Dt    3.80417 10  Dt                                              1.15516 10   Dt    1.13493 10   Dt    3.80417 10  Dt                                      1.15516 10   Dt    1.13493 10   Dt    3.80417 10  Dt                                           1.15516 10   Dt    1.13493 10   Dt    3.80417 10  Dt                                      1.15516 10   Dt    1.13493 10   Dt    3.80417 10  Dt                                           1.15516 10   Dt    1.13493 10   Dt    3.80417 10  Dt                                     1.15516 10   Dt    1.13493 10   Dt    3.80417 10  Dt\n                                                     E                  E                  E                                                      E                  E                  E                                                           E                  E                  E                                                   E                  E                  E                                                        E                  E                  E                                                   E                  E                  E                                                        E                  E                  E                                                  E                  E                  E",
     "output_type": "error",
     "traceback": [
      "\u001b[0;31m                                                                                  -7                 -7                -11                            -6                       -6                 -6                -11                            -6                            -7                -13                                            -6                       -6                -11                                            -6                                               -6                                            -6                                                                                        -6                                               -6                                           -6                                                                                       -6\n                                                                        1.08483 10         1.10417 10        3.32677 10                 -9  1.22935 10   Dt         -5.97701 10         5.97508 10        3.32789 10                 -9  1.22935 10   Dt               -1.0472 10        6.47786 10           0.0175142                 1.22935 10   Dt          5.76968 10         3.5054 10           0.0175201                 1.22935 10   Dt                -0.0178206        6.08149 10         0.000312321                1.22935 10   Dt            0.981844         0.000329091        0.000312426                1.22935 10   Dt                0.0178206         6.19191 10          0.0172019                1.22935 10   Dt           -0.981844         0.000335066         0.0172077                1.22935 10   Dt           11\nFindRoot::precw: The precision of the argument function (Max[Abs[-Log[---------------- - ---------------- + --------------- + 1.90069 10   E               ] + Log[---------------- + ---------------- + --------------- + 1.90069 10   E               ]], Abs[-Log[---------------- - ---------------- - --------------- + 0.0175143 E               ] + Log[---------------- + ---------------- - --------------- + 0.0175143 E               ]], Abs[-Log[---------------- - ---------------- + --------------- + 0.0175143 E               ] + Log[---------------- + ---------------- + --------------- + 0.0175143 E               ]], Abs[-Log[---------------- + ---------------- + --------------- + 0.964971 E               ] + Log[---------------- - ---------------- + --------------- + 0.964971 E               ]]] == Log[--]) is less than WorkingPrecision (60.).\n                                                                                 11                 11                 7                                                      11                 11                 7                                                           11                 11                 7                                                   11                 11                 7                                                        11                 11                 7                                                   11                 11                 7                                                        11                 11                 7                                                  11                 11                 7                                          10\n                                                                       1.15516 10   Dt    1.13493 10   Dt    3.80417 10  Dt                                         1.15516 10   Dt    1.13493 10   Dt    3.80417 10  Dt                                              1.15516 10   Dt    1.13493 10   Dt    3.80417 10  Dt                                      1.15516 10   Dt    1.13493 10   Dt    3.80417 10  Dt                                           1.15516 10   Dt    1.13493 10   Dt    3.80417 10  Dt                                      1.15516 10   Dt    1.13493 10   Dt    3.80417 10  Dt                                           1.15516 10   Dt    1.13493 10   Dt    3.80417 10  Dt                                     1.15516 10   Dt    1.13493 10   Dt    3.80417 10  Dt\n                                                                      E                  E                  E                                                      E                  E                  E                                                           E                  E                  E                                                   E                  E                  E                                                        E                  E                  E                                                   E                  E                  E                                                        E                  E                  E                                                  E                  E                  E\u001b[0m"
     ]
    },
    {
     "ename": "FindRoot::precw",
     "evalue": "                                                                 -11               -13                -9                             -6                       -6                 -6                -11                            -6                           -11                -18                                            -6                       -6                -11                                            -6                            -6                -11                                            -6                                                                                        -6                            -6                -11                                           -6                                                                                       -6\n                                                      -3.51232 10        6.36453 10          1.8662 10                 -9  1.22935 10   Dt         -5.97701 10         5.97508 10        3.32789 10                 -9  1.22935 10   Dt              3.39048 10         3.73388 10           0.982486                  1.22935 10   Dt          5.76968 10         3.5054 10           0.0175201                 1.22935 10   Dt               5.76968 10        3.50541 10           0.0175201                 1.22935 10   Dt            0.981844         0.000329091        0.000312426                1.22935 10   Dt              -5.76968 10        3.56905 10           0.964966                 1.22935 10   Dt           -0.981844         0.000335066         0.0172077                1.22935 10   Dt           11\nThe precision of the argument function (Max[Abs[-Log[---------------- + ---------------- - --------------- + 1.90069 10   E               ] + Log[---------------- + ---------------- + --------------- + 1.90069 10   E               ]], Abs[-Log[---------------- + ---------------- + --------------- + 0.0175143 E               ] + Log[---------------- + ---------------- - --------------- + 0.0175143 E               ]], Abs[-Log[---------------- + ---------------- - --------------- + 0.0175143 E               ] + Log[---------------- + ---------------- + --------------- + 0.0175143 E               ]], Abs[-Log[---------------- - ---------------- - --------------- + 0.964971 E               ] + Log[---------------- - ---------------- + --------------- + 0.964971 E               ]]] == Log[--]) is less than WorkingPrecision (60.).\n                                                                11                 11                 7                                                      11                 11                 7                                                           11                 11                 7                                                   11                 11                 7                                                        11                 11                 7                                                   11                 11                 7                                                        11                 11                 7                                                  11                 11                 7                                          10\n                                                      1.15516 10   Dt    1.13493 10   Dt    3.80417 10  Dt                                         1.15516 10   Dt    1.13493 10   Dt    3.80417 10  Dt                                              1.15516 10   Dt    1.13493 10   Dt    3.80417 10  Dt                                      1.15516 10   Dt    1.13493 10   Dt    3.80417 10  Dt                                           1.15516 10   Dt    1.13493 10   Dt    3.80417 10  Dt                                      1.15516 10   Dt    1.13493 10   Dt    3.80417 10  Dt                                           1.15516 10   Dt    1.13493 10   Dt    3.80417 10  Dt                                     1.15516 10   Dt    1.13493 10   Dt    3.80417 10  Dt\n                                                     E                  E                  E                                                      E                  E                  E                                                           E                  E                  E                                                   E                  E                  E                                                        E                  E                  E                                                   E                  E                  E                                                        E                  E                  E                                                  E                  E                  E",
     "output_type": "error",
     "traceback": [
      "\u001b[0;31m                                                                                  -11               -13                -9                             -6                       -6                 -6                -11                            -6                           -11                -18                                            -6                       -6                -11                                            -6                            -6                -11                                            -6                                                                                        -6                            -6                -11                                           -6                                                                                       -6\n                                                                       -3.51232 10        6.36453 10          1.8662 10                 -9  1.22935 10   Dt         -5.97701 10         5.97508 10        3.32789 10                 -9  1.22935 10   Dt              3.39048 10         3.73388 10           0.982486                  1.22935 10   Dt          5.76968 10         3.5054 10           0.0175201                 1.22935 10   Dt               5.76968 10        3.50541 10           0.0175201                 1.22935 10   Dt            0.981844         0.000329091        0.000312426                1.22935 10   Dt              -5.76968 10        3.56905 10           0.964966                 1.22935 10   Dt           -0.981844         0.000335066         0.0172077                1.22935 10   Dt           11\nFindRoot::precw: The precision of the argument function (Max[Abs[-Log[---------------- + ---------------- - --------------- + 1.90069 10   E               ] + Log[---------------- + ---------------- + --------------- + 1.90069 10   E               ]], Abs[-Log[---------------- + ---------------- + --------------- + 0.0175143 E               ] + Log[---------------- + ---------------- - --------------- + 0.0175143 E               ]], Abs[-Log[---------------- + ---------------- - --------------- + 0.0175143 E               ] + Log[---------------- + ---------------- + --------------- + 0.0175143 E               ]], Abs[-Log[---------------- - ---------------- - --------------- + 0.964971 E               ] + Log[---------------- - ---------------- + --------------- + 0.964971 E               ]]] == Log[--]) is less than WorkingPrecision (60.).\n                                                                                 11                 11                 7                                                      11                 11                 7                                                           11                 11                 7                                                   11                 11                 7                                                        11                 11                 7                                                   11                 11                 7                                                        11                 11                 7                                                  11                 11                 7                                          10\n                                                                       1.15516 10   Dt    1.13493 10   Dt    3.80417 10  Dt                                         1.15516 10   Dt    1.13493 10   Dt    3.80417 10  Dt                                              1.15516 10   Dt    1.13493 10   Dt    3.80417 10  Dt                                      1.15516 10   Dt    1.13493 10   Dt    3.80417 10  Dt                                           1.15516 10   Dt    1.13493 10   Dt    3.80417 10  Dt                                      1.15516 10   Dt    1.13493 10   Dt    3.80417 10  Dt                                           1.15516 10   Dt    1.13493 10   Dt    3.80417 10  Dt                                     1.15516 10   Dt    1.13493 10   Dt    3.80417 10  Dt\n                                                                      E                  E                  E                                                      E                  E                  E                                                           E                  E                  E                                                   E                  E                  E                                                        E                  E                  E                                                   E                  E                  E                                                        E                  E                  E                                                  E                  E                  E\u001b[0m"
     ]
    },
    {
     "ename": "FindRoot::precw",
     "evalue": "                                                                                                      -11                            -6                       -6                 -6                -11                            -6                                               -6                                            -6                       -6                -11                                            -6                                                                                             -6                                                                                        -6                                                                                            -6                                                                                       -6\n                                                       0.000335281          0.999665        3.26643 10                 -9  1.22935 10   Dt         -5.97701 10         5.97508 10        3.32789 10                 -9  1.22935 10   Dt               -0.000323651       5.86474 10          0.0171965                 1.22935 10   Dt          5.76968 10         3.5054 10           0.0175201                 1.22935 10   Dt                 -55.0766           55.0588          0.000306656                1.22935 10   Dt            0.981844         0.000329091        0.000312426                1.22935 10   Dt                 55.0766            56.0585           0.0168899                1.22935 10   Dt           -0.981844         0.000335066         0.0172077                1.22935 10   Dt           11\nThe precision of the argument function (Max[Abs[-Log[---------------- + ---------------- + --------------- + 1.90069 10   E               ] + Log[---------------- + ---------------- + --------------- + 1.90069 10   E               ]], Abs[-Log[---------------- + ---------------- - --------------- + 0.0175143 E               ] + Log[---------------- + ---------------- - --------------- + 0.0175143 E               ]], Abs[-Log[---------------- + ---------------- + --------------- + 0.0175143 E               ] + Log[---------------- + ---------------- + --------------- + 0.0175143 E               ]], Abs[-Log[---------------- - ---------------- + --------------- + 0.964971 E               ] + Log[---------------- - ---------------- + --------------- + 0.964971 E               ]]] == Log[--]) is less than WorkingPrecision (60.).\n                                                                11                 11                 7                                                      11                 11                 7                                                           11                 11                 7                                                   11                 11                 7                                                        11                 11                 7                                                   11                 11                 7                                                        11                 11                 7                                                  11                 11                 7                                          10\n                                                      1.15516 10   Dt    1.13493 10   Dt    3.80417 10  Dt                                         1.15516 10   Dt    1.13493 10   Dt    3.80417 10  Dt                                              1.15516 10   Dt    1.13493 10   Dt    3.80417 10  Dt                                      1.15516 10   Dt    1.13493 10   Dt    3.80417 10  Dt                                           1.15516 10   Dt    1.13493 10   Dt    3.80417 10  Dt                                      1.15516 10   Dt    1.13493 10   Dt    3.80417 10  Dt                                           1.15516 10   Dt    1.13493 10   Dt    3.80417 10  Dt                                     1.15516 10   Dt    1.13493 10   Dt    3.80417 10  Dt\n                                                     E                  E                  E                                                      E                  E                  E                                                           E                  E                  E                                                   E                  E                  E                                                        E                  E                  E                                                   E                  E                  E                                                        E                  E                  E                                                  E                  E                  E",
     "output_type": "error",
     "traceback": [
      "\u001b[0;31m                                                                                                                       -11                            -6                       -6                 -6                -11                            -6                                               -6                                            -6                       -6                -11                                            -6                                                                                             -6                                                                                        -6                                                                                            -6                                                                                       -6\n                                                                        0.000335281          0.999665        3.26643 10                 -9  1.22935 10   Dt         -5.97701 10         5.97508 10        3.32789 10                 -9  1.22935 10   Dt               -0.000323651       5.86474 10          0.0171965                 1.22935 10   Dt          5.76968 10         3.5054 10           0.0175201                 1.22935 10   Dt                 -55.0766           55.0588          0.000306656                1.22935 10   Dt            0.981844         0.000329091        0.000312426                1.22935 10   Dt                 55.0766            56.0585           0.0168899                1.22935 10   Dt           -0.981844         0.000335066         0.0172077                1.22935 10   Dt           11\nFindRoot::precw: The precision of the argument function (Max[Abs[-Log[---------------- + ---------------- + --------------- + 1.90069 10   E               ] + Log[---------------- + ---------------- + --------------- + 1.90069 10   E               ]], Abs[-Log[---------------- + ---------------- - --------------- + 0.0175143 E               ] + Log[---------------- + ---------------- - --------------- + 0.0175143 E               ]], Abs[-Log[---------------- + ---------------- + --------------- + 0.0175143 E               ] + Log[---------------- + ---------------- + --------------- + 0.0175143 E               ]], Abs[-Log[---------------- - ---------------- + --------------- + 0.964971 E               ] + Log[---------------- - ---------------- + --------------- + 0.964971 E               ]]] == Log[--]) is less than WorkingPrecision (60.).\n                                                                                 11                 11                 7                                                      11                 11                 7                                                           11                 11                 7                                                   11                 11                 7                                                        11                 11                 7                                                   11                 11                 7                                                        11                 11                 7                                                  11                 11                 7                                          10\n                                                                       1.15516 10   Dt    1.13493 10   Dt    3.80417 10  Dt                                         1.15516 10   Dt    1.13493 10   Dt    3.80417 10  Dt                                              1.15516 10   Dt    1.13493 10   Dt    3.80417 10  Dt                                      1.15516 10   Dt    1.13493 10   Dt    3.80417 10  Dt                                           1.15516 10   Dt    1.13493 10   Dt    3.80417 10  Dt                                      1.15516 10   Dt    1.13493 10   Dt    3.80417 10  Dt                                           1.15516 10   Dt    1.13493 10   Dt    3.80417 10  Dt                                     1.15516 10   Dt    1.13493 10   Dt    3.80417 10  Dt\n                                                                      E                  E                  E                                                      E                  E                  E                                                           E                  E                  E                                                   E                  E                  E                                                        E                  E                  E                                                   E                  E                  E                                                        E                  E                  E                                                  E                  E                  E\u001b[0m"
     ]
    },
    {
     "ename": "General::stop",
     "evalue": "Further output of FindRoot::precw will be suppressed during this calculation.",
     "output_type": "error",
     "traceback": [
      "\u001b[0;31mGeneral::stop: Further output of FindRoot::precw will be suppressed during this calculation.\u001b[0m"
     ]
    }
   ],
   "source": [
    "EQs = ImportEQ[FilePathEQ];\n",
    "TSs = ImportTS[FilePathTS];\n",
    "K = RateConstants[EQs, TSs, PhysConst, acc, Tc];\n",
    "(*Eigensystem*)\n",
    "{EVal, EVecR, EVecL} = EigenSystemRL[K Second];\n",
    "(*Indistinguish*)\n",
    "lsRt = Indistinguish[1/10, K, EQs, EVal, EVecR, EVecL, acc];\n",
    "Export[FileNameJoin[{Dir, StringJoin[\"Indistinguish\", Ext]}], lsRt];"
   ]
  },
  {
   "cell_type": "code",
   "execution_count": 18,
   "metadata": {
    "vscode": {
     "languageId": "wolfram language"
    }
   },
   "outputs": [],
   "source": [
    "(* pdt.trj *)\n",
    "P[dt_] := MatrixExp[dt*(K Second)];\n",
    "k := 4;\n",
    "out[n_] := {10^n, P[10^n][[1, k]], P[10^n][[2, k]], P[10^n][[3, k]], \n",
    "   P[10^n][[4, k]]};\n",
    "Export[FileNameJoin[{Dir, \n",
    "    StringJoin[\"pdt.\", ToString[k], \".trj\", Ext]}], \n",
    "  out /@ Range[-16, -6, 0.01]];\n",
    "Clear[k, out, P]"
   ]
  },
  {
   "cell_type": "code",
   "execution_count": 24,
   "metadata": {
    "vscode": {
     "languageId": "wolfram language"
    }
   },
   "outputs": [],
   "source": [
    "P[dt_, j_] := \n",
    " Sum[Exp[EVal[[k]] dt]*ConjugateTranspose[EVecR][[k, All]]*\n",
    "   EVecL[[k, j]], {k, 1, Length[K]}]\n",
    "LogP[j1_, j2_, dt_] := Abs[Log[P[dt, j1]] - Log[P[dt, j2]]];\n",
    "LInfLogP[j1_, j2_, dt_] := Max[LogP[j1, j2, dt]];"
   ]
  },
  {
   "cell_type": "code",
   "execution_count": 27,
   "metadata": {
    "vscode": {
     "languageId": "wolfram language"
    }
   },
   "outputs": [
    {
     "ename": "General::munfl",
     "evalue": "Exp[-712.266] is too small to represent as a normalized machine number; precision may be lost.",
     "output_type": "error",
     "traceback": [
      "\u001b[0;31mGeneral::munfl: Exp[-712.266] is too small to represent as a normalized machine number; precision may be lost.\u001b[0m"
     ]
    },
    {
     "ename": "General::munfl",
     "evalue": "Exp[-712.266] is too small to represent as a normalized machine number; precision may be lost.",
     "output_type": "error",
     "traceback": [
      "\u001b[0;31mGeneral::munfl: Exp[-712.266] is too small to represent as a normalized machine number; precision may be lost.\u001b[0m"
     ]
    },
    {
     "ename": "General::munfl",
     "evalue": "          -304            -6\n1.21554 10     -8.67965 10   is too small to represent as a normalized machine number; precision may be lost.",
     "output_type": "error",
     "traceback": [
      "\u001b[0;31m                          -304            -6\nGeneral::munfl: 1.21554 10     -8.67965 10   is too small to represent as a normalized machine number; precision may be lost.\u001b[0m"
     ]
    },
    {
     "ename": "General::stop",
     "evalue": "Further output of General::munfl will be suppressed during this calculation.",
     "output_type": "error",
     "traceback": [
      "\u001b[0;31mGeneral::stop: Further output of General::munfl will be suppressed during this calculation.\u001b[0m"
     ]
    },
    {
     "name": "stdout",
     "output_type": "stream",
     "text": [
      "Done\n"
     ]
    }
   ],
   "source": [
    "(* LInfLogP.trj *)\n",
    "out[n_] := {10^n, LInfLogP[1, 2, 10^n], LInfLogP[2, 4, 10^n], \n",
    "   LInfLogP[1, 4, 10^n], LInfLogP[3, 4, 10^n], LInfLogP[2, 3, 10^n], \n",
    "   LInfLogP[1, 3, 10^n]};\n",
    "Export[FileNameJoin[{Dir, StringJoin[\"LInfLogP.trj\", Ext]}], \n",
    "  out /@ Range[-11, -6, 0.01]];\n",
    "Clear[out]; Print[\"Done\"]"
   ]
  },
  {
   "cell_type": "code",
   "execution_count": 31,
   "metadata": {
    "vscode": {
     "languageId": "wolfram language"
    }
   },
   "outputs": [
    {
     "ename": "General::munfl",
     "evalue": "Exp[-712.266] is too small to represent as a normalized machine number; precision may be lost.",
     "output_type": "error",
     "traceback": [
      "\u001b[0;31mGeneral::munfl: Exp[-712.266] is too small to represent as a normalized machine number; precision may be lost.\u001b[0m"
     ]
    },
    {
     "ename": "General::munfl",
     "evalue": "          -304            -6\n1.21554 10     -8.67965 10   is too small to represent as a normalized machine number; precision may be lost.",
     "output_type": "error",
     "traceback": [
      "\u001b[0;31m                          -304            -6\nGeneral::munfl: 1.21554 10     -8.67965 10   is too small to represent as a normalized machine number; precision may be lost.\u001b[0m"
     ]
    },
    {
     "ename": "General::munfl",
     "evalue": "Exp[-712.266] is too small to represent as a normalized machine number; precision may be lost.",
     "output_type": "error",
     "traceback": [
      "\u001b[0;31mGeneral::munfl: Exp[-712.266] is too small to represent as a normalized machine number; precision may be lost.\u001b[0m"
     ]
    },
    {
     "ename": "General::stop",
     "evalue": "Further output of General::munfl will be suppressed during this calculation.",
     "output_type": "error",
     "traceback": [
      "\u001b[0;31mGeneral::stop: Further output of General::munfl will be suppressed during this calculation.\u001b[0m"
     ]
    }
   ],
   "source": [
    "(* LogP.trj 2,4 *)\n",
    "{i, j} = {2, 4};\n",
    "out[n_] := {10^n, LogP[i, j, 10^n][[1]], LogP[i, j, 10^n][[2]], \n",
    "   LogP[i, j, 10^n][[3]], LogP[i, j, 10^n][[4]], LInfLogP[i, j, 10^n]};\n",
    "Export[FileNameJoin[{Dir, \n",
    "    StringJoin[\"LogP.trj.\", ToString[i], ToString[j], Ext]}], \n",
    "  out /@ Range[-11, -6, 0.01]];\n",
    "Clear[out]"
   ]
  },
  {
   "cell_type": "code",
   "execution_count": 36,
   "metadata": {
    "vscode": {
     "languageId": "wolfram language"
    }
   },
   "outputs": [
    {
     "ename": "General::munfl",
     "evalue": "Exp[-712.266] is too small to represent as a normalized machine number; precision may be lost.",
     "output_type": "error",
     "traceback": [
      "\u001b[0;31mGeneral::munfl: Exp[-712.266] is too small to represent as a normalized machine number; precision may be lost.\u001b[0m"
     ]
    },
    {
     "ename": "General::munfl",
     "evalue": "          -304           -11\n1.21554 10     5.00301 10    is too small to represent as a normalized machine number; precision may be lost.",
     "output_type": "error",
     "traceback": [
      "\u001b[0;31m                          -304           -11\nGeneral::munfl: 1.21554 10     5.00301 10    is too small to represent as a normalized machine number; precision may be lost.\u001b[0m"
     ]
    },
    {
     "ename": "General::munfl",
     "evalue": "Exp[-712.266] is too small to represent as a normalized machine number; precision may be lost.",
     "output_type": "error",
     "traceback": [
      "\u001b[0;31mGeneral::munfl: Exp[-712.266] is too small to represent as a normalized machine number; precision may be lost.\u001b[0m"
     ]
    },
    {
     "ename": "General::stop",
     "evalue": "Further output of General::munfl will be suppressed during this calculation.",
     "output_type": "error",
     "traceback": [
      "\u001b[0;31mGeneral::stop: Further output of General::munfl will be suppressed during this calculation.\u001b[0m"
     ]
    }
   ],
   "source": [
    "(* LogP.trj 3,4 *)\n",
    "{i, j} = {3, 4};\n",
    "out[n_] := {10^n, LogP[i, j, 10^n][[1]], LogP[i, j, 10^n][[2]], \n",
    "   LogP[i, j, 10^n][[3]], LogP[i, j, 10^n][[4]], LInfLogP[i, j, 10^n]};\n",
    "Export[FileNameJoin[{Dir, \n",
    "    StringJoin[\"LogP.trj.\", ToString[i], ToString[j], Ext]}], \n",
    "  out /@ Range[-11, -6, 0.01]];\n",
    "Clear[out]"
   ]
  }
 ],
 "metadata": {
  "kernelspec": {
   "display_name": "Wolfram Language 13",
   "language": "Wolfram Language",
   "name": "wolframlanguage13"
  },
  "language_info": {
   "codemirror_mode": "mathematica",
   "file_extension": ".m",
   "mimetype": "application/vnd.wolfram.m",
   "name": "Wolfram Language",
   "pygments_lexer": "mathematica",
   "version": "12.0"
  }
 },
 "nbformat": 4,
 "nbformat_minor": 4
}
